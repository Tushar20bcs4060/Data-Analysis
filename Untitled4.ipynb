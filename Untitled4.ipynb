{
 "cells": [
  {
   "cell_type": "code",
   "execution_count": 1,
   "id": "687752f0",
   "metadata": {},
   "outputs": [],
   "source": [
    "import numpy as np\n",
    "import pandas as pd\n",
    "import os\n",
    "import csv\n",
    "from nltk.sentiment.vader import SentimentIntensityAnalyzer\n",
    "from wordcloud import WordCloud, STOPWORDS, ImageColorGenerator\n",
    "import matplotlib.pyplot as plt\n",
    "import seaborn as sns\n",
    "import nltk\n",
    "import re\n",
    "from nltk.corpus import stopwords\n",
    "import string\n",
    "\n",
    "import warnings"
   ]
  },
  {
   "cell_type": "code",
   "execution_count": 2,
   "id": "d9e8be89",
   "metadata": {},
   "outputs": [
    {
     "name": "stderr",
     "output_type": "stream",
     "text": [
      "C:\\Users\\Tushar Mani\\anaconda3\\lib\\site-packages\\IPython\\core\\interactiveshell.py:3444: DtypeWarning: Columns (15) have mixed types.Specify dtype option on import or set low_memory=False.\n",
      "  exec(code_obj, self.user_global_ns, self.user_ns)\n",
      "C:\\Users\\Tushar Mani\\anaconda3\\lib\\site-packages\\numpy\\lib\\arraysetops.py:583: FutureWarning: elementwise comparison failed; returning scalar instead, but in the future will perform elementwise comparison\n",
      "  mask |= (ar1 == a)\n"
     ]
    },
    {
     "name": "stdout",
     "output_type": "stream",
     "text": [
      "(1229349, 17)\n"
     ]
    }
   ],
   "source": [
    "filename = r'C:/Users/Tushar Mani/OneDrive/Desktop/Minor Project/Sentiment Data/UkraineCombinedTweetsDeduped20220227-131611.csv.gzip'\n",
    "df =  pd.read_csv(filename, compression='gzip', index_col=0,encoding='utf-8', quoting=csv.QUOTE_ALL)\n",
    "\n",
    "print(df.shape)\n"
   ]
  },
  {
   "cell_type": "code",
   "execution_count": 3,
   "id": "61708d00",
   "metadata": {},
   "outputs": [],
   "source": [
    "import math\n",
    "\n",
    "oneFifth = math.ceil(len(df) * 0.05)"
   ]
  },
  {
   "cell_type": "code",
   "execution_count": 4,
   "id": "6187a816",
   "metadata": {},
   "outputs": [],
   "source": [
    "df = df[df[\"language\"] == \"en\"].sample(oneFifth)"
   ]
  },
  {
   "cell_type": "code",
   "execution_count": 5,
   "id": "2772bb64",
   "metadata": {},
   "outputs": [],
   "source": [
    "df.reset_index(drop=True, inplace=True)"
   ]
  },
  {
   "cell_type": "code",
   "execution_count": 6,
   "id": "56724711",
   "metadata": {},
   "outputs": [
    {
     "name": "stdout",
     "output_type": "stream",
     "text": [
      "(61468, 17)\n"
     ]
    }
   ],
   "source": [
    "print(df.shape)\n"
   ]
  },
  {
   "cell_type": "code",
   "execution_count": 7,
   "id": "b510117e",
   "metadata": {},
   "outputs": [],
   "source": [
    "import re\n",
    "from bs4 import BeautifulSoup\n",
    "from html import unescape\n",
    "\n",
    "def remove_urls(x):\n",
    "    cleaned_string = re.sub(r'(https|http)?:\\/\\/(\\w|\\.|\\/|\\?|\\=|\\&|\\%)*\\b', '', str(x), flags=re.MULTILINE)\n",
    "    return cleaned_string"
   ]
  },
  {
   "cell_type": "code",
   "execution_count": 8,
   "id": "b58959e9",
   "metadata": {},
   "outputs": [],
   "source": [
    "def unescape_stuff(x):\n",
    "    soup = BeautifulSoup(unescape(x), 'lxml')\n",
    "    return soup.text"
   ]
  },
  {
   "cell_type": "code",
   "execution_count": 9,
   "id": "2d637cf2",
   "metadata": {},
   "outputs": [],
   "source": [
    "def deEmojify(x):\n",
    "    regrex_pattern = re.compile(pattern = \"[\"\n",
    "        u\"\\U0001F600-\\U0001F64F\"  # emoticons\n",
    "        u\"\\U0001F300-\\U0001F5FF\"  # symbols & pictographs\n",
    "        u\"\\U0001F680-\\U0001F6FF\"  # transport & map symbols\n",
    "        u\"\\U0001F1E0-\\U0001F1FF\"  # flags (iOS)\n",
    "                           \"]+\", flags = re.UNICODE)\n",
    "    return regrex_pattern.sub(r'', x)"
   ]
  },
  {
   "cell_type": "code",
   "execution_count": 10,
   "id": "628e1bb9",
   "metadata": {},
   "outputs": [],
   "source": [
    "def unify_whitespaces(x):\n",
    "    cleaned_string = re.sub(' +', ' ', x)\n",
    "    return cleaned_string "
   ]
  },
  {
   "cell_type": "code",
   "execution_count": 11,
   "id": "469f8f67",
   "metadata": {},
   "outputs": [],
   "source": [
    "def remove_symbols(x):\n",
    "    cleaned_string = re.sub(r\"[^a-zA-Z0-9?!.,]+\", ' ', x)\n",
    "    return cleaned_string  \n"
   ]
  },
  {
   "cell_type": "code",
   "execution_count": 12,
   "id": "67ac8e10",
   "metadata": {},
   "outputs": [],
   "source": [
    "df['text'] = df['text'].str.lower()\n",
    "df['text'] = df['text'].apply(remove_urls)\n",
    "df['text'] = df['text'].apply(unescape_stuff)\n",
    "df['text'] = df['text'].apply(deEmojify)\n",
    "df['text'] = df['text'].apply(remove_symbols)\n",
    "df['text'] = df['text'].apply(unify_whitespaces)"
   ]
  },
  {
   "cell_type": "code",
   "execution_count": 13,
   "id": "60e65cb9",
   "metadata": {},
   "outputs": [
    {
     "name": "stdout",
     "output_type": "stream",
     "text": [
      "0    osama bin laden dropping out the gulag to come...\n",
      "1    . zelenskyyua s tv address to the russian ! pe...\n",
      "2    if this is real, some russian troops are remov...\n",
      "3    why appeasement never works. did we not learn ...\n",
      "4    latvias deputy pm blasts continental europe on...\n",
      "Name: text, dtype: object\n"
     ]
    }
   ],
   "source": [
    "print(df['text'].head())"
   ]
  },
  {
   "cell_type": "code",
   "execution_count": 14,
   "id": "919534fe",
   "metadata": {},
   "outputs": [
    {
     "name": "stdout",
     "output_type": "stream",
     "text": [
      "2022-04-04 12:01:42,345 loading file C:\\Users\\Tushar Mani\\.flair\\models\\sentiment-en-mix-distillbert_4.pt\n"
     ]
    }
   ],
   "source": [
    "from flair.models import TextClassifier\n",
    "from flair.data import Sentence\n",
    "sia = TextClassifier.load('en-sentiment')"
   ]
  },
  {
   "cell_type": "code",
   "execution_count": 15,
   "id": "3c5b722e",
   "metadata": {},
   "outputs": [
    {
     "name": "stdout",
     "output_type": "stream",
     "text": [
      "TextClassifier(\n",
      "  (loss_function): CrossEntropyLoss()\n",
      "  (document_embeddings): TransformerDocumentEmbeddings(\n",
      "    (model): DistilBertModel(\n",
      "      (embeddings): Embeddings(\n",
      "        (word_embeddings): Embedding(30522, 768, padding_idx=0)\n",
      "        (position_embeddings): Embedding(512, 768)\n",
      "        (LayerNorm): LayerNorm((768,), eps=1e-12, elementwise_affine=True)\n",
      "        (dropout): Dropout(p=0.1, inplace=False)\n",
      "      )\n",
      "      (transformer): Transformer(\n",
      "        (layer): ModuleList(\n",
      "          (0): TransformerBlock(\n",
      "            (attention): MultiHeadSelfAttention(\n",
      "              (dropout): Dropout(p=0.1, inplace=False)\n",
      "              (q_lin): Linear(in_features=768, out_features=768, bias=True)\n",
      "              (k_lin): Linear(in_features=768, out_features=768, bias=True)\n",
      "              (v_lin): Linear(in_features=768, out_features=768, bias=True)\n",
      "              (out_lin): Linear(in_features=768, out_features=768, bias=True)\n",
      "            )\n",
      "            (sa_layer_norm): LayerNorm((768,), eps=1e-12, elementwise_affine=True)\n",
      "            (ffn): FFN(\n",
      "              (dropout): Dropout(p=0.1, inplace=False)\n",
      "              (lin1): Linear(in_features=768, out_features=3072, bias=True)\n",
      "              (lin2): Linear(in_features=3072, out_features=768, bias=True)\n",
      "              (activation): GELUActivation()\n",
      "            )\n",
      "            (output_layer_norm): LayerNorm((768,), eps=1e-12, elementwise_affine=True)\n",
      "          )\n",
      "          (1): TransformerBlock(\n",
      "            (attention): MultiHeadSelfAttention(\n",
      "              (dropout): Dropout(p=0.1, inplace=False)\n",
      "              (q_lin): Linear(in_features=768, out_features=768, bias=True)\n",
      "              (k_lin): Linear(in_features=768, out_features=768, bias=True)\n",
      "              (v_lin): Linear(in_features=768, out_features=768, bias=True)\n",
      "              (out_lin): Linear(in_features=768, out_features=768, bias=True)\n",
      "            )\n",
      "            (sa_layer_norm): LayerNorm((768,), eps=1e-12, elementwise_affine=True)\n",
      "            (ffn): FFN(\n",
      "              (dropout): Dropout(p=0.1, inplace=False)\n",
      "              (lin1): Linear(in_features=768, out_features=3072, bias=True)\n",
      "              (lin2): Linear(in_features=3072, out_features=768, bias=True)\n",
      "              (activation): GELUActivation()\n",
      "            )\n",
      "            (output_layer_norm): LayerNorm((768,), eps=1e-12, elementwise_affine=True)\n",
      "          )\n",
      "          (2): TransformerBlock(\n",
      "            (attention): MultiHeadSelfAttention(\n",
      "              (dropout): Dropout(p=0.1, inplace=False)\n",
      "              (q_lin): Linear(in_features=768, out_features=768, bias=True)\n",
      "              (k_lin): Linear(in_features=768, out_features=768, bias=True)\n",
      "              (v_lin): Linear(in_features=768, out_features=768, bias=True)\n",
      "              (out_lin): Linear(in_features=768, out_features=768, bias=True)\n",
      "            )\n",
      "            (sa_layer_norm): LayerNorm((768,), eps=1e-12, elementwise_affine=True)\n",
      "            (ffn): FFN(\n",
      "              (dropout): Dropout(p=0.1, inplace=False)\n",
      "              (lin1): Linear(in_features=768, out_features=3072, bias=True)\n",
      "              (lin2): Linear(in_features=3072, out_features=768, bias=True)\n",
      "              (activation): GELUActivation()\n",
      "            )\n",
      "            (output_layer_norm): LayerNorm((768,), eps=1e-12, elementwise_affine=True)\n",
      "          )\n",
      "          (3): TransformerBlock(\n",
      "            (attention): MultiHeadSelfAttention(\n",
      "              (dropout): Dropout(p=0.1, inplace=False)\n",
      "              (q_lin): Linear(in_features=768, out_features=768, bias=True)\n",
      "              (k_lin): Linear(in_features=768, out_features=768, bias=True)\n",
      "              (v_lin): Linear(in_features=768, out_features=768, bias=True)\n",
      "              (out_lin): Linear(in_features=768, out_features=768, bias=True)\n",
      "            )\n",
      "            (sa_layer_norm): LayerNorm((768,), eps=1e-12, elementwise_affine=True)\n",
      "            (ffn): FFN(\n",
      "              (dropout): Dropout(p=0.1, inplace=False)\n",
      "              (lin1): Linear(in_features=768, out_features=3072, bias=True)\n",
      "              (lin2): Linear(in_features=3072, out_features=768, bias=True)\n",
      "              (activation): GELUActivation()\n",
      "            )\n",
      "            (output_layer_norm): LayerNorm((768,), eps=1e-12, elementwise_affine=True)\n",
      "          )\n",
      "          (4): TransformerBlock(\n",
      "            (attention): MultiHeadSelfAttention(\n",
      "              (dropout): Dropout(p=0.1, inplace=False)\n",
      "              (q_lin): Linear(in_features=768, out_features=768, bias=True)\n",
      "              (k_lin): Linear(in_features=768, out_features=768, bias=True)\n",
      "              (v_lin): Linear(in_features=768, out_features=768, bias=True)\n",
      "              (out_lin): Linear(in_features=768, out_features=768, bias=True)\n",
      "            )\n",
      "            (sa_layer_norm): LayerNorm((768,), eps=1e-12, elementwise_affine=True)\n",
      "            (ffn): FFN(\n",
      "              (dropout): Dropout(p=0.1, inplace=False)\n",
      "              (lin1): Linear(in_features=768, out_features=3072, bias=True)\n",
      "              (lin2): Linear(in_features=3072, out_features=768, bias=True)\n",
      "              (activation): GELUActivation()\n",
      "            )\n",
      "            (output_layer_norm): LayerNorm((768,), eps=1e-12, elementwise_affine=True)\n",
      "          )\n",
      "          (5): TransformerBlock(\n",
      "            (attention): MultiHeadSelfAttention(\n",
      "              (dropout): Dropout(p=0.1, inplace=False)\n",
      "              (q_lin): Linear(in_features=768, out_features=768, bias=True)\n",
      "              (k_lin): Linear(in_features=768, out_features=768, bias=True)\n",
      "              (v_lin): Linear(in_features=768, out_features=768, bias=True)\n",
      "              (out_lin): Linear(in_features=768, out_features=768, bias=True)\n",
      "            )\n",
      "            (sa_layer_norm): LayerNorm((768,), eps=1e-12, elementwise_affine=True)\n",
      "            (ffn): FFN(\n",
      "              (dropout): Dropout(p=0.1, inplace=False)\n",
      "              (lin1): Linear(in_features=768, out_features=3072, bias=True)\n",
      "              (lin2): Linear(in_features=3072, out_features=768, bias=True)\n",
      "              (activation): GELUActivation()\n",
      "            )\n",
      "            (output_layer_norm): LayerNorm((768,), eps=1e-12, elementwise_affine=True)\n",
      "          )\n",
      "        )\n",
      "      )\n",
      "    )\n",
      "  )\n",
      "  (decoder): Linear(in_features=768, out_features=2, bias=True)\n",
      "  (weights): None\n",
      "  (weight_tensor) None\n",
      ")\n"
     ]
    }
   ],
   "source": [
    "print(sia)"
   ]
  },
  {
   "cell_type": "code",
   "execution_count": 16,
   "id": "5f74f927",
   "metadata": {},
   "outputs": [],
   "source": [
    "def flair_prediction(x):\n",
    "\n",
    "    sentence = Sentence(x)\n",
    "    \n",
    "    try:        \n",
    "        sia.predict(sentence)\n",
    "        score = sentence.labels[0]\n",
    "        staging_score = str(score).replace(\"(\",\",\").replace(\")\",\"\")\n",
    "        \n",
    "        sentiment_score = staging_score.split(\",\")\n",
    "        \n",
    "        if \"POSITIVE\" in str(sentiment_score[0]):\n",
    "            return sentiment_score[0].strip(), float(sentiment_score[1].strip())\n",
    "        elif \"NEGATIVE\" in str(sentiment_score[0]):\n",
    "            return sentiment_score[0].strip(), float(sentiment_score[1].strip())\n",
    "        else:\n",
    "            return \"NEUTRAL\", 0.00\n",
    "    except Exception:\n",
    "        print(sentence)\n",
    "        pass  # or you could use 'continue'\n",
    "    \n",
    "    return \"ERROR\",0.00"
   ]
  },
  {
   "cell_type": "code",
   "execution_count": 17,
   "id": "432f563b",
   "metadata": {},
   "outputs": [],
   "source": [
    "df['Sentiment'] = \"\"\n",
    "df['Sentiment_Score'] = np.nan"
   ]
  },
  {
   "cell_type": "code",
   "execution_count": 18,
   "id": "956aca11",
   "metadata": {},
   "outputs": [
    {
     "data": {
      "application/vnd.jupyter.widget-view+json": {
       "model_id": "b86992253bdf456f975a0eb0123076ec",
       "version_major": 2,
       "version_minor": 0
      },
      "text/plain": [
       "Pandas Apply:   0%|          | 0/61468 [00:00<?, ?it/s]"
      ]
     },
     "metadata": {},
     "output_type": "display_data"
    }
   ],
   "source": [
    "import swifter\n",
    "df[\"Sentiment\"],df[\"Sentiment_Score\"] =  zip(*df[\"text\"].swifter.apply(flair_prediction))"
   ]
  },
  {
   "cell_type": "code",
   "execution_count": 19,
   "id": "1d17d3a7",
   "metadata": {},
   "outputs": [
    {
     "data": {
      "text/html": [
       "<div>\n",
       "<style scoped>\n",
       "    .dataframe tbody tr th:only-of-type {\n",
       "        vertical-align: middle;\n",
       "    }\n",
       "\n",
       "    .dataframe tbody tr th {\n",
       "        vertical-align: top;\n",
       "    }\n",
       "\n",
       "    .dataframe thead th {\n",
       "        text-align: right;\n",
       "    }\n",
       "</style>\n",
       "<table border=\"1\" class=\"dataframe\">\n",
       "  <thead>\n",
       "    <tr style=\"text-align: right;\">\n",
       "      <th></th>\n",
       "      <th>0</th>\n",
       "      <th>1</th>\n",
       "      <th>2</th>\n",
       "      <th>3</th>\n",
       "      <th>4</th>\n",
       "    </tr>\n",
       "  </thead>\n",
       "  <tbody>\n",
       "    <tr>\n",
       "      <th>userid</th>\n",
       "      <td>367093442</td>\n",
       "      <td>736932839489470464</td>\n",
       "      <td>3033406435</td>\n",
       "      <td>3404178616</td>\n",
       "      <td>712723219</td>\n",
       "    </tr>\n",
       "    <tr>\n",
       "      <th>username</th>\n",
       "      <td>papi_nueve</td>\n",
       "      <td>81ulm</td>\n",
       "      <td>4761a995554645f</td>\n",
       "      <td>BradStonelol</td>\n",
       "      <td>Harribob59</td>\n",
       "    </tr>\n",
       "    <tr>\n",
       "      <th>acctdesc</th>\n",
       "      <td>🇨🇩 @fcbarcelona</td>\n",
       "      <td>Globetrotter Football Basketball Neues Talent ...</td>\n",
       "      <td>factory worker ,father,equal rights, freedom o...</td>\n",
       "      <td>NaN</td>\n",
       "      <td>#Brexit. Wife, Mother, Nannie, Health Worker. ...</td>\n",
       "    </tr>\n",
       "    <tr>\n",
       "      <th>location</th>\n",
       "      <td>Lyon, France</td>\n",
       "      <td>Barcelona, Spanien</td>\n",
       "      <td>NaN</td>\n",
       "      <td>NaN</td>\n",
       "      <td>West Yorkshire</td>\n",
       "    </tr>\n",
       "    <tr>\n",
       "      <th>following</th>\n",
       "      <td>80</td>\n",
       "      <td>1024</td>\n",
       "      <td>772</td>\n",
       "      <td>81</td>\n",
       "      <td>1509</td>\n",
       "    </tr>\n",
       "    <tr>\n",
       "      <th>followers</th>\n",
       "      <td>412</td>\n",
       "      <td>117</td>\n",
       "      <td>633</td>\n",
       "      <td>105</td>\n",
       "      <td>804</td>\n",
       "    </tr>\n",
       "    <tr>\n",
       "      <th>totaltweets</th>\n",
       "      <td>94743</td>\n",
       "      <td>1131</td>\n",
       "      <td>68550</td>\n",
       "      <td>330</td>\n",
       "      <td>60082</td>\n",
       "    </tr>\n",
       "    <tr>\n",
       "      <th>usercreatedts</th>\n",
       "      <td>2011-09-03 11:09:44.000000</td>\n",
       "      <td>2016-05-29 14:50:55.000000</td>\n",
       "      <td>2015-02-20 22:33:23.000000</td>\n",
       "      <td>2015-08-05 12:30:07.000000</td>\n",
       "      <td>2012-07-23 16:45:50.000000</td>\n",
       "    </tr>\n",
       "    <tr>\n",
       "      <th>tweetid</th>\n",
       "      <td>1496981657500459012</td>\n",
       "      <td>1497439246138892293</td>\n",
       "      <td>1497024721879064582</td>\n",
       "      <td>1497308838952943618</td>\n",
       "      <td>1497221787221909506</td>\n",
       "    </tr>\n",
       "    <tr>\n",
       "      <th>tweetcreatedts</th>\n",
       "      <td>2022-02-24 22:53:34.000000</td>\n",
       "      <td>2022-02-26 05:11:52.000000</td>\n",
       "      <td>2022-02-25 01:44:41.000000</td>\n",
       "      <td>2022-02-25 20:33:40.000000</td>\n",
       "      <td>2022-02-25 14:47:45.000000</td>\n",
       "    </tr>\n",
       "    <tr>\n",
       "      <th>retweetcount</th>\n",
       "      <td>3669</td>\n",
       "      <td>95463</td>\n",
       "      <td>251</td>\n",
       "      <td>5</td>\n",
       "      <td>231</td>\n",
       "    </tr>\n",
       "    <tr>\n",
       "      <th>text</th>\n",
       "      <td>osama bin laden dropping out the gulag to come...</td>\n",
       "      <td>. zelenskyyua s tv address to the russian ! pe...</td>\n",
       "      <td>if this is real, some russian troops are remov...</td>\n",
       "      <td>why appeasement never works. did we not learn ...</td>\n",
       "      <td>latvias deputy pm blasts continental europe on...</td>\n",
       "    </tr>\n",
       "    <tr>\n",
       "      <th>hashtags</th>\n",
       "      <td>[{'text': 'WWIII', 'indices': [89, 95]}]</td>\n",
       "      <td>[]</td>\n",
       "      <td>[{'text': 'Ukraine', 'indices': [98, 106]}]</td>\n",
       "      <td>[{'text': 'Ukraine', 'indices': [83, 91]}, {'t...</td>\n",
       "      <td>[]</td>\n",
       "    </tr>\n",
       "    <tr>\n",
       "      <th>language</th>\n",
       "      <td>en</td>\n",
       "      <td>en</td>\n",
       "      <td>en</td>\n",
       "      <td>en</td>\n",
       "      <td>en</td>\n",
       "    </tr>\n",
       "    <tr>\n",
       "      <th>coordinates</th>\n",
       "      <td>NaN</td>\n",
       "      <td>NaN</td>\n",
       "      <td>NaN</td>\n",
       "      <td>NaN</td>\n",
       "      <td>NaN</td>\n",
       "    </tr>\n",
       "    <tr>\n",
       "      <th>favorite_count</th>\n",
       "      <td>0</td>\n",
       "      <td>0</td>\n",
       "      <td>0</td>\n",
       "      <td>0</td>\n",
       "      <td>0</td>\n",
       "    </tr>\n",
       "    <tr>\n",
       "      <th>extractedts</th>\n",
       "      <td>2022-02-24 22:55:35.358864</td>\n",
       "      <td>2022-02-26 05:13:03.658009</td>\n",
       "      <td>2022-02-25 01:47:04.242942</td>\n",
       "      <td>2022-02-25 20:35:17.641353</td>\n",
       "      <td>2022-02-25 14:49:12.105744</td>\n",
       "    </tr>\n",
       "    <tr>\n",
       "      <th>Sentiment</th>\n",
       "      <td>NEGATIVE</td>\n",
       "      <td>POSITIVE</td>\n",
       "      <td>NEGATIVE</td>\n",
       "      <td>NEGATIVE</td>\n",
       "      <td>NEGATIVE</td>\n",
       "    </tr>\n",
       "    <tr>\n",
       "      <th>Sentiment_Score</th>\n",
       "      <td>0.9822</td>\n",
       "      <td>0.9968</td>\n",
       "      <td>0.9962</td>\n",
       "      <td>0.9987</td>\n",
       "      <td>0.9218</td>\n",
       "    </tr>\n",
       "  </tbody>\n",
       "</table>\n",
       "</div>"
      ],
      "text/plain": [
       "                                                                 0  \\\n",
       "userid                                                   367093442   \n",
       "username                                                papi_nueve   \n",
       "acctdesc                                           🇨🇩 @fcbarcelona   \n",
       "location                                              Lyon, France   \n",
       "following                                                       80   \n",
       "followers                                                      412   \n",
       "totaltweets                                                  94743   \n",
       "usercreatedts                           2011-09-03 11:09:44.000000   \n",
       "tweetid                                        1496981657500459012   \n",
       "tweetcreatedts                          2022-02-24 22:53:34.000000   \n",
       "retweetcount                                                  3669   \n",
       "text             osama bin laden dropping out the gulag to come...   \n",
       "hashtags                  [{'text': 'WWIII', 'indices': [89, 95]}]   \n",
       "language                                                        en   \n",
       "coordinates                                                    NaN   \n",
       "favorite_count                                                   0   \n",
       "extractedts                             2022-02-24 22:55:35.358864   \n",
       "Sentiment                                                 NEGATIVE   \n",
       "Sentiment_Score                                             0.9822   \n",
       "\n",
       "                                                                 1  \\\n",
       "userid                                          736932839489470464   \n",
       "username                                                     81ulm   \n",
       "acctdesc         Globetrotter Football Basketball Neues Talent ...   \n",
       "location                                        Barcelona, Spanien   \n",
       "following                                                     1024   \n",
       "followers                                                      117   \n",
       "totaltweets                                                   1131   \n",
       "usercreatedts                           2016-05-29 14:50:55.000000   \n",
       "tweetid                                        1497439246138892293   \n",
       "tweetcreatedts                          2022-02-26 05:11:52.000000   \n",
       "retweetcount                                                 95463   \n",
       "text             . zelenskyyua s tv address to the russian ! pe...   \n",
       "hashtags                                                        []   \n",
       "language                                                        en   \n",
       "coordinates                                                    NaN   \n",
       "favorite_count                                                   0   \n",
       "extractedts                             2022-02-26 05:13:03.658009   \n",
       "Sentiment                                                 POSITIVE   \n",
       "Sentiment_Score                                             0.9968   \n",
       "\n",
       "                                                                 2  \\\n",
       "userid                                                  3033406435   \n",
       "username                                           4761a995554645f   \n",
       "acctdesc         factory worker ,father,equal rights, freedom o...   \n",
       "location                                                       NaN   \n",
       "following                                                      772   \n",
       "followers                                                      633   \n",
       "totaltweets                                                  68550   \n",
       "usercreatedts                           2015-02-20 22:33:23.000000   \n",
       "tweetid                                        1497024721879064582   \n",
       "tweetcreatedts                          2022-02-25 01:44:41.000000   \n",
       "retweetcount                                                   251   \n",
       "text             if this is real, some russian troops are remov...   \n",
       "hashtags               [{'text': 'Ukraine', 'indices': [98, 106]}]   \n",
       "language                                                        en   \n",
       "coordinates                                                    NaN   \n",
       "favorite_count                                                   0   \n",
       "extractedts                             2022-02-25 01:47:04.242942   \n",
       "Sentiment                                                 NEGATIVE   \n",
       "Sentiment_Score                                             0.9962   \n",
       "\n",
       "                                                                 3  \\\n",
       "userid                                                  3404178616   \n",
       "username                                              BradStonelol   \n",
       "acctdesc                                                       NaN   \n",
       "location                                                       NaN   \n",
       "following                                                       81   \n",
       "followers                                                      105   \n",
       "totaltweets                                                    330   \n",
       "usercreatedts                           2015-08-05 12:30:07.000000   \n",
       "tweetid                                        1497308838952943618   \n",
       "tweetcreatedts                          2022-02-25 20:33:40.000000   \n",
       "retweetcount                                                     5   \n",
       "text             why appeasement never works. did we not learn ...   \n",
       "hashtags         [{'text': 'Ukraine', 'indices': [83, 91]}, {'t...   \n",
       "language                                                        en   \n",
       "coordinates                                                    NaN   \n",
       "favorite_count                                                   0   \n",
       "extractedts                             2022-02-25 20:35:17.641353   \n",
       "Sentiment                                                 NEGATIVE   \n",
       "Sentiment_Score                                             0.9987   \n",
       "\n",
       "                                                                 4  \n",
       "userid                                                   712723219  \n",
       "username                                                Harribob59  \n",
       "acctdesc         #Brexit. Wife, Mother, Nannie, Health Worker. ...  \n",
       "location                                            West Yorkshire  \n",
       "following                                                     1509  \n",
       "followers                                                      804  \n",
       "totaltweets                                                  60082  \n",
       "usercreatedts                           2012-07-23 16:45:50.000000  \n",
       "tweetid                                        1497221787221909506  \n",
       "tweetcreatedts                          2022-02-25 14:47:45.000000  \n",
       "retweetcount                                                   231  \n",
       "text             latvias deputy pm blasts continental europe on...  \n",
       "hashtags                                                        []  \n",
       "language                                                        en  \n",
       "coordinates                                                    NaN  \n",
       "favorite_count                                                   0  \n",
       "extractedts                             2022-02-25 14:49:12.105744  \n",
       "Sentiment                                                 NEGATIVE  \n",
       "Sentiment_Score                                             0.9218  "
      ]
     },
     "execution_count": 19,
     "metadata": {},
     "output_type": "execute_result"
    }
   ],
   "source": [
    "df.head().T"
   ]
  },
  {
   "cell_type": "code",
   "execution_count": 20,
   "id": "9d0fabef",
   "metadata": {},
   "outputs": [
    {
     "data": {
      "text/html": [
       "<div>\n",
       "<style scoped>\n",
       "    .dataframe tbody tr th:only-of-type {\n",
       "        vertical-align: middle;\n",
       "    }\n",
       "\n",
       "    .dataframe tbody tr th {\n",
       "        vertical-align: top;\n",
       "    }\n",
       "\n",
       "    .dataframe thead tr th {\n",
       "        text-align: left;\n",
       "    }\n",
       "\n",
       "    .dataframe thead tr:last-of-type th {\n",
       "        text-align: right;\n",
       "    }\n",
       "</style>\n",
       "<table border=\"1\" class=\"dataframe\">\n",
       "  <thead>\n",
       "    <tr>\n",
       "      <th></th>\n",
       "      <th colspan=\"2\" halign=\"left\">Sentiment_Score</th>\n",
       "    </tr>\n",
       "    <tr>\n",
       "      <th></th>\n",
       "      <th>count</th>\n",
       "      <th>mean</th>\n",
       "    </tr>\n",
       "    <tr>\n",
       "      <th>Sentiment</th>\n",
       "      <th></th>\n",
       "      <th></th>\n",
       "    </tr>\n",
       "  </thead>\n",
       "  <tbody>\n",
       "    <tr>\n",
       "      <th>NEGATIVE</th>\n",
       "      <td>40922</td>\n",
       "      <td>0.938775</td>\n",
       "    </tr>\n",
       "    <tr>\n",
       "      <th>POSITIVE</th>\n",
       "      <td>20546</td>\n",
       "      <td>0.880022</td>\n",
       "    </tr>\n",
       "  </tbody>\n",
       "</table>\n",
       "</div>"
      ],
      "text/plain": [
       "          Sentiment_Score          \n",
       "                    count      mean\n",
       "Sentiment                          \n",
       "NEGATIVE            40922  0.938775\n",
       "POSITIVE            20546  0.880022"
      ]
     },
     "execution_count": 20,
     "metadata": {},
     "output_type": "execute_result"
    }
   ],
   "source": [
    "df.groupby([\"Sentiment\"]).agg({'Sentiment_Score': ['count','mean']})"
   ]
  },
  {
   "cell_type": "code",
   "execution_count": 21,
   "id": "20b546bb",
   "metadata": {},
   "outputs": [
    {
     "data": {
      "text/plain": [
       "<AxesSubplot:ylabel='tweetid'>"
      ]
     },
     "execution_count": 21,
     "metadata": {},
     "output_type": "execute_result"
    },
    {
     "data": {
      "image/png": "[encoded data removed]",
      "text/plain": [
       "<Figure size 432x288 with 1 Axes>"
      ]
     },
     "metadata": {},
     "output_type": "display_data"
    }
   ],
   "source": [
    "import matplotlib.pyplot as plt\n",
    "\n",
    "df.groupby(['Sentiment']).sum().plot(kind='pie', y=\"tweetid\", autopct='%1.1f%%', startangle=270, fontsize=17)"
   ]
  },
  {
   "cell_type": "code",
   "execution_count": null,
   "id": "98af75b0",
   "metadata": {},
   "outputs": [],
   "source": []
  },
  {
   "cell_type": "code",
   "execution_count": null,
   "id": "fa189e7c",
   "metadata": {},
   "outputs": [],
   "source": []
  }
 ],
 "metadata": {
  "kernelspec": {
   "display_name": "Python 3 (ipykernel)",
   "language": "python",
   "name": "python3"
  },
  "language_info": {
   "codemirror_mode": {
    "name": "ipython",
    "version": 3
   },
   "file_extension": ".py",
   "mimetype": "text/x-python",
   "name": "python",
   "nbconvert_exporter": "python",
   "pygments_lexer": "ipython3",
   "version": "3.9.7"
  }
 },
 "nbformat": 4,
 "nbformat_minor": 5
}
